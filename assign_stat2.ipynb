{
 "cells": [
  {
   "cell_type": "markdown",
   "id": "037d3dd4-2f9b-4fed-a48d-e80904ef3114",
   "metadata": {},
   "source": [
    "Q1. What are the three measures of central tendency?"
   ]
  },
  {
   "cell_type": "code",
   "execution_count": 1,
   "id": "f73f9fd2-db38-4d04-8f29-129d2d403bb7",
   "metadata": {},
   "outputs": [
    {
     "data": {
      "text/plain": [
       "'The three measures of central tendency of the dataset mean, median and mode.\\ni-Mean- The mean represents the average value of the dataset. \\nIt can be calculated as the sum of all the values in the dataset divided by the number of values.\\nformula- \\nmean= (x1+x2+x3......xn)/n\\n\\nii-Median-Median is the middle value of the dataset in which the dataset is arranged in the ascending order or in descending order.\\nformula-\\nfor n Odd terms Median = [(n + 1)/2]th term\\nn Even terms Median = [(n/2)th term + ((n/2) + 1)th term]/2\\n\\niii-Mode- The mode is the value that occurs the most frequently in your data set, making it a different type of measure of central tendency than the mean or median.\\nformula-\\nMode = L + (f 1– f 0/2f 1– f 0– f 2 ) h.\\nwhere-l = lower limit of the modal class\\nh = size of the class interval\\nf1 = frequency of the modal class\\nf0 = frequency of the class preceding the modal class\\nf2 = frequency of the class succeeding the modal class '"
      ]
     },
     "execution_count": 1,
     "metadata": {},
     "output_type": "execute_result"
    }
   ],
   "source": [
    "\"\"\"The three measures of central tendency of the dataset mean, median and mode.\n",
    "i-Mean- The mean represents the average value of the dataset. \n",
    "It can be calculated as the sum of all the values in the dataset divided by the number of values.\n",
    "formula- \n",
    "mean= (x1+x2+x3......xn)/n\n",
    "\n",
    "ii-Median-Median is the middle value of the dataset in which the dataset is arranged in the ascending order or in descending order.\n",
    "formula-\n",
    "for n Odd terms Median = [(n + 1)/2]th term\n",
    "n Even terms Median = [(n/2)th term + ((n/2) + 1)th term]/2\n",
    "\n",
    "iii-Mode- The mode is the value that occurs the most frequently in your data set, making it a different type of measure of central tendency than the mean or median.\n",
    "formula-\n",
    "Mode = L + (f 1– f 0/2f 1– f 0– f 2 ) h.\n",
    "where-l = lower limit of the modal class\n",
    "h = size of the class interval\n",
    "f1 = frequency of the modal class\n",
    "f0 = frequency of the class preceding the modal class\n",
    "f2 = frequency of the class succeeding the modal class \"\"\""
   ]
  },
  {
   "cell_type": "markdown",
   "id": "b2bd90e5-2069-4375-a905-d83b4a986b76",
   "metadata": {},
   "source": [
    "Q3. Measure the three measures of central tendency for the given height data:\n",
    "[178,177,176,177,178.2,178,175,179,180,175,178.9,176.2,177,172.5,178,176.5]"
   ]
  },
  {
   "cell_type": "code",
   "execution_count": 2,
   "id": "11df229c-a0ca-43cd-8269-d658ebb00804",
   "metadata": {},
   "outputs": [],
   "source": [
    "x=[178,177,176,177,178.2,178,175,179,180,175,178.9,176.2,177,172.5,178,176.5]\n"
   ]
  },
  {
   "cell_type": "code",
   "execution_count": 3,
   "id": "fb5a4dac-79b8-4463-9532-d399482420d6",
   "metadata": {},
   "outputs": [
    {
     "data": {
      "text/plain": [
       "177.01875"
      ]
     },
     "execution_count": 3,
     "metadata": {},
     "output_type": "execute_result"
    }
   ],
   "source": [
    "import numpy as np\n",
    "np.mean(x)\n"
   ]
  },
  {
   "cell_type": "code",
   "execution_count": 4,
   "id": "7e4557a1-4d43-4211-a193-cbcb737b0a93",
   "metadata": {},
   "outputs": [
    {
     "data": {
      "text/plain": [
       "177.0"
      ]
     },
     "execution_count": 4,
     "metadata": {},
     "output_type": "execute_result"
    }
   ],
   "source": [
    "np.median(x)"
   ]
  },
  {
   "cell_type": "code",
   "execution_count": 6,
   "id": "471579d6-3ede-4453-959c-0bd4c3a18825",
   "metadata": {},
   "outputs": [
    {
     "name": "stderr",
     "output_type": "stream",
     "text": [
      "/tmp/ipykernel_147/3269743869.py:2: FutureWarning: Unlike other reduction functions (e.g. `skew`, `kurtosis`), the default behavior of `mode` typically preserves the axis it acts along. In SciPy 1.11.0, this behavior will change: the default value of `keepdims` will become False, the `axis` over which the statistic is taken will be eliminated, and the value None will no longer be accepted. Set `keepdims` to True or False to avoid this warning.\n",
      "  stats.mode(x)\n"
     ]
    },
    {
     "data": {
      "text/plain": [
       "ModeResult(mode=array([177.]), count=array([3]))"
      ]
     },
     "execution_count": 6,
     "metadata": {},
     "output_type": "execute_result"
    }
   ],
   "source": [
    "from scipy import stats\n",
    "stats.mode(x)"
   ]
  },
  {
   "cell_type": "markdown",
   "id": "4311f919-4c99-4177-8cdf-b7480aa1c03c",
   "metadata": {},
   "source": [
    "Q4. Find the standard deviation for the given data:\n",
    "[178,177,176,177,178.2,178,175,179,180,175,178.9,176.2,177,172.5,178,176.5]"
   ]
  },
  {
   "cell_type": "code",
   "execution_count": 7,
   "id": "7894f535-269e-449e-b2cf-d4d28fd44571",
   "metadata": {},
   "outputs": [],
   "source": [
    "data= [178,177,176,177,178.2,178,175,179,180,175,178.9,176.2,177,172.5,178,176.5]"
   ]
  },
  {
   "cell_type": "code",
   "execution_count": 8,
   "id": "0a1ce7be-8746-47ed-8f4b-a195ec4d69a2",
   "metadata": {},
   "outputs": [
    {
     "data": {
      "text/plain": [
       "1.7885814036548633"
      ]
     },
     "execution_count": 8,
     "metadata": {},
     "output_type": "execute_result"
    }
   ],
   "source": [
    "np.std(data)"
   ]
  },
  {
   "cell_type": "markdown",
   "id": "071fb7e4-2cd5-4bed-a462-cb77e3c0f2b9",
   "metadata": {},
   "source": [
    "Q5. How are measures of dispersion such as range, variance, and standard deviation used to describe\n",
    "the spread of a dataset? Provide an example."
   ]
  },
  {
   "cell_type": "code",
   "execution_count": 13,
   "id": "604dee89-4e21-401e-909f-10ef96345866",
   "metadata": {},
   "outputs": [
    {
     "data": {
      "text/plain": [
       "'Range-The range of the data is given as the difference between the maximum and the minimum values of the observations in the data.\\nExample [10,2,34,56,44]\\nrange=max number-min number\\nrange=56-2=54 \\nVariance - The variance of the data is given by measuring the distance of the observed values from the mean of the distribution.\\n Standard Deviation -The square root of the variance gives the standard deviation. \\n  standard deviation also measures the variation of the data about the mean.'"
      ]
     },
     "execution_count": 13,
     "metadata": {},
     "output_type": "execute_result"
    }
   ],
   "source": [
    "\"\"\"Range-The range of the data is given as the difference between the maximum and the minimum values of the observations in the data.\n",
    "Example [10,2,34,56,44]\n",
    "range=max number-min number\n",
    "range=56-2=54 \n",
    "Variance - The variance of the data is given by measuring the distance of the observed values from the mean of the distribution.\n",
    " Standard Deviation -The square root of the variance gives the standard deviation. \n",
    "  standard deviation also measures the variation of the data about the mean.\"\"\"\n"
   ]
  },
  {
   "cell_type": "code",
   "execution_count": 17,
   "id": "1a822d0f-115f-4f45-868f-95af2c2b4512",
   "metadata": {},
   "outputs": [
    {
     "data": {
      "text/plain": [
       "9.891245356065006"
      ]
     },
     "execution_count": 17,
     "metadata": {},
     "output_type": "execute_result"
    }
   ],
   "source": [
    "# Example of variance and standard deviation\n",
    "a=[12,23,43,21,13,24,31]\n",
    "np.std(a)\n"
   ]
  },
  {
   "cell_type": "code",
   "execution_count": 18,
   "id": "155f0d94-6b11-465c-9e73-6812d0d4b9f1",
   "metadata": {},
   "outputs": [
    {
     "data": {
      "text/plain": [
       "97.83673469387755"
      ]
     },
     "execution_count": 18,
     "metadata": {},
     "output_type": "execute_result"
    }
   ],
   "source": [
    "np.var(a)"
   ]
  },
  {
   "cell_type": "markdown",
   "id": "35c02156-3b18-4f9b-b1b0-c431768ec1d2",
   "metadata": {},
   "source": [
    "Q6. What is a Venn diagram?"
   ]
  },
  {
   "cell_type": "code",
   "execution_count": 19,
   "id": "9da8cb97-a3a2-4d9d-a7db-ad7229cf48a6",
   "metadata": {},
   "outputs": [
    {
     "data": {
      "text/plain": [
       "'A Venn diagram is an illustration that uses circles to show the relationships among things or finite groups of things.'"
      ]
     },
     "execution_count": 19,
     "metadata": {},
     "output_type": "execute_result"
    }
   ],
   "source": [
    "\"\"\"A Venn diagram is an illustration that uses circles to show the relationships among things or finite groups of things.\"\"\""
   ]
  },
  {
   "cell_type": "markdown",
   "id": "0c150eba-d5bb-4a7d-9f95-0e6a6d624301",
   "metadata": {},
   "source": [
    "Q7. For the two given sets A = (2,3,4,5,6,7) & B = (0,2,6,8,10). Find:\n",
    "(i) A∩B\n",
    "(ii) A ⋃ B"
   ]
  },
  {
   "cell_type": "code",
   "execution_count": 20,
   "id": "1cb8498e-3f3b-4f99-ae64-8a01b1eb83d8",
   "metadata": {},
   "outputs": [
    {
     "ename": "SyntaxError",
     "evalue": "invalid character '∩' (U+2229) (2237733754.py, line 3)",
     "output_type": "error",
     "traceback": [
      "\u001b[0;36m  Cell \u001b[0;32mIn[20], line 3\u001b[0;36m\u001b[0m\n\u001b[0;31m    A∩B=[2,6]\u001b[0m\n\u001b[0m     ^\u001b[0m\n\u001b[0;31mSyntaxError\u001b[0m\u001b[0;31m:\u001b[0m invalid character '∩' (U+2229)\n"
     ]
    }
   ],
   "source": [
    "A = (2,3,4,5,6,7) \n",
    "B = (0,2,6,8,10)\n",
    "A∩B=[2,6]\n",
    "AUB=[0,2,3,4,5,6,7,8,10]"
   ]
  },
  {
   "cell_type": "markdown",
   "id": "4becfe9a-4ebf-426c-b13c-66af498ceb15",
   "metadata": {},
   "source": [
    "Q8. What do you understand about skewness in data?"
   ]
  },
  {
   "cell_type": "code",
   "execution_count": 21,
   "id": "674523c8-cf28-498b-8b4e-cb5b4644d722",
   "metadata": {},
   "outputs": [
    {
     "data": {
      "text/plain": [
       "'Skewness is a measurement of the distortion of symmetrical distribution or asymmetry in a data set.\\nSkewness is demonstrated on a bell curve when data points are not distributed symmetrically to the left and right sides of the median on a bell curve.'"
      ]
     },
     "execution_count": 21,
     "metadata": {},
     "output_type": "execute_result"
    }
   ],
   "source": [
    "\"\"\"Skewness is a measurement of the distortion of symmetrical distribution or asymmetry in a data set.\n",
    "Skewness is demonstrated on a bell curve when data points are not distributed symmetrically to the left and right sides of the median on a bell curve.\"\"\""
   ]
  },
  {
   "cell_type": "markdown",
   "id": "6d52af31-60a2-4287-899b-642b0844dd8a",
   "metadata": {},
   "source": [
    "Q9. If a data is right skewed then what will be the position of median with respect to mean?"
   ]
  },
  {
   "cell_type": "code",
   "execution_count": 23,
   "id": "e391d085-a893-48d0-916c-97771f53db5c",
   "metadata": {},
   "outputs": [
    {
     "data": {
      "text/plain": [
       "'If the distribution of data is skewed to the right, the mode is often less than the median, which is less than the mean.'"
      ]
     },
     "execution_count": 23,
     "metadata": {},
     "output_type": "execute_result"
    }
   ],
   "source": [
    "\"\"\"If the distribution of data is skewed to the right, the mode is often less than the median, which is less than the mean.\"\"\""
   ]
  },
  {
   "cell_type": "markdown",
   "id": "bd83a7c1-d22b-4e2a-87e3-e4ff6bce2c15",
   "metadata": {},
   "source": [
    "Q10. Explain the difference between covariance and correlation. How are these measures used in\n",
    "statistical analysis?"
   ]
  },
  {
   "cell_type": "code",
   "execution_count": null,
   "id": "7df0bae5-fd00-4026-b4db-81ef380d493f",
   "metadata": {},
   "outputs": [],
   "source": [
    "\"\"\"Covariance indicates the direction of the linear relationship between variables.\n",
    "Correlation measures both the strength and direction of the linear relationship between two variables.\n",
    "Correlation values are standardized.\"\"\""
   ]
  },
  {
   "cell_type": "code",
   "execution_count": 25,
   "id": "9840c201-731f-44d6-a954-1e3996e4d969",
   "metadata": {},
   "outputs": [
    {
     "data": {
      "text/html": [
       "<div>\n",
       "<style scoped>\n",
       "    .dataframe tbody tr th:only-of-type {\n",
       "        vertical-align: middle;\n",
       "    }\n",
       "\n",
       "    .dataframe tbody tr th {\n",
       "        vertical-align: top;\n",
       "    }\n",
       "\n",
       "    .dataframe thead th {\n",
       "        text-align: right;\n",
       "    }\n",
       "</style>\n",
       "<table border=\"1\" class=\"dataframe\">\n",
       "  <thead>\n",
       "    <tr style=\"text-align: right;\">\n",
       "      <th></th>\n",
       "      <th>Year</th>\n",
       "      <th>Country</th>\n",
       "      <th>Spending_USD</th>\n",
       "      <th>Life_Expectancy</th>\n",
       "    </tr>\n",
       "  </thead>\n",
       "  <tbody>\n",
       "    <tr>\n",
       "      <th>0</th>\n",
       "      <td>1970</td>\n",
       "      <td>Germany</td>\n",
       "      <td>252.311</td>\n",
       "      <td>70.6</td>\n",
       "    </tr>\n",
       "    <tr>\n",
       "      <th>1</th>\n",
       "      <td>1970</td>\n",
       "      <td>France</td>\n",
       "      <td>192.143</td>\n",
       "      <td>72.2</td>\n",
       "    </tr>\n",
       "    <tr>\n",
       "      <th>2</th>\n",
       "      <td>1970</td>\n",
       "      <td>Great Britain</td>\n",
       "      <td>123.993</td>\n",
       "      <td>71.9</td>\n",
       "    </tr>\n",
       "    <tr>\n",
       "      <th>3</th>\n",
       "      <td>1970</td>\n",
       "      <td>Japan</td>\n",
       "      <td>150.437</td>\n",
       "      <td>72.0</td>\n",
       "    </tr>\n",
       "    <tr>\n",
       "      <th>4</th>\n",
       "      <td>1970</td>\n",
       "      <td>USA</td>\n",
       "      <td>326.961</td>\n",
       "      <td>70.9</td>\n",
       "    </tr>\n",
       "  </tbody>\n",
       "</table>\n",
       "</div>"
      ],
      "text/plain": [
       "   Year        Country  Spending_USD  Life_Expectancy\n",
       "0  1970        Germany       252.311             70.6\n",
       "1  1970         France       192.143             72.2\n",
       "2  1970  Great Britain       123.993             71.9\n",
       "3  1970          Japan       150.437             72.0\n",
       "4  1970            USA       326.961             70.9"
      ]
     },
     "execution_count": 25,
     "metadata": {},
     "output_type": "execute_result"
    }
   ],
   "source": [
    "import seaborn as sns\n",
    "df=sns.load_dataset('healthexp')\n",
    "df.head()"
   ]
  },
  {
   "cell_type": "code",
   "execution_count": 26,
   "id": "badc89be-6368-4a51-8ca0-8b5b5b73bf7b",
   "metadata": {},
   "outputs": [
    {
     "name": "stderr",
     "output_type": "stream",
     "text": [
      "/tmp/ipykernel_147/1545644723.py:1: FutureWarning: The default value of numeric_only in DataFrame.cov is deprecated. In a future version, it will default to False. Select only valid columns or specify the value of numeric_only to silence this warning.\n",
      "  df.cov()\n"
     ]
    },
    {
     "data": {
      "text/html": [
       "<div>\n",
       "<style scoped>\n",
       "    .dataframe tbody tr th:only-of-type {\n",
       "        vertical-align: middle;\n",
       "    }\n",
       "\n",
       "    .dataframe tbody tr th {\n",
       "        vertical-align: top;\n",
       "    }\n",
       "\n",
       "    .dataframe thead th {\n",
       "        text-align: right;\n",
       "    }\n",
       "</style>\n",
       "<table border=\"1\" class=\"dataframe\">\n",
       "  <thead>\n",
       "    <tr style=\"text-align: right;\">\n",
       "      <th></th>\n",
       "      <th>Year</th>\n",
       "      <th>Spending_USD</th>\n",
       "      <th>Life_Expectancy</th>\n",
       "    </tr>\n",
       "  </thead>\n",
       "  <tbody>\n",
       "    <tr>\n",
       "      <th>Year</th>\n",
       "      <td>201.098848</td>\n",
       "      <td>2.571883e+04</td>\n",
       "      <td>41.915454</td>\n",
       "    </tr>\n",
       "    <tr>\n",
       "      <th>Spending_USD</th>\n",
       "      <td>25718.827373</td>\n",
       "      <td>4.817761e+06</td>\n",
       "      <td>4166.800912</td>\n",
       "    </tr>\n",
       "    <tr>\n",
       "      <th>Life_Expectancy</th>\n",
       "      <td>41.915454</td>\n",
       "      <td>4.166801e+03</td>\n",
       "      <td>10.733902</td>\n",
       "    </tr>\n",
       "  </tbody>\n",
       "</table>\n",
       "</div>"
      ],
      "text/plain": [
       "                         Year  Spending_USD  Life_Expectancy\n",
       "Year               201.098848  2.571883e+04        41.915454\n",
       "Spending_USD     25718.827373  4.817761e+06      4166.800912\n",
       "Life_Expectancy     41.915454  4.166801e+03        10.733902"
      ]
     },
     "execution_count": 26,
     "metadata": {},
     "output_type": "execute_result"
    }
   ],
   "source": [
    "df.cov()"
   ]
  },
  {
   "cell_type": "code",
   "execution_count": 27,
   "id": "ab36c3ca-3a8d-4b4f-ab35-bdad260a01e6",
   "metadata": {},
   "outputs": [
    {
     "name": "stderr",
     "output_type": "stream",
     "text": [
      "/tmp/ipykernel_147/1134722465.py:1: FutureWarning: The default value of numeric_only in DataFrame.corr is deprecated. In a future version, it will default to False. Select only valid columns or specify the value of numeric_only to silence this warning.\n",
      "  df.corr()\n"
     ]
    },
    {
     "data": {
      "text/html": [
       "<div>\n",
       "<style scoped>\n",
       "    .dataframe tbody tr th:only-of-type {\n",
       "        vertical-align: middle;\n",
       "    }\n",
       "\n",
       "    .dataframe tbody tr th {\n",
       "        vertical-align: top;\n",
       "    }\n",
       "\n",
       "    .dataframe thead th {\n",
       "        text-align: right;\n",
       "    }\n",
       "</style>\n",
       "<table border=\"1\" class=\"dataframe\">\n",
       "  <thead>\n",
       "    <tr style=\"text-align: right;\">\n",
       "      <th></th>\n",
       "      <th>Year</th>\n",
       "      <th>Spending_USD</th>\n",
       "      <th>Life_Expectancy</th>\n",
       "    </tr>\n",
       "  </thead>\n",
       "  <tbody>\n",
       "    <tr>\n",
       "      <th>Year</th>\n",
       "      <td>1.000000</td>\n",
       "      <td>0.826273</td>\n",
       "      <td>0.902175</td>\n",
       "    </tr>\n",
       "    <tr>\n",
       "      <th>Spending_USD</th>\n",
       "      <td>0.826273</td>\n",
       "      <td>1.000000</td>\n",
       "      <td>0.579430</td>\n",
       "    </tr>\n",
       "    <tr>\n",
       "      <th>Life_Expectancy</th>\n",
       "      <td>0.902175</td>\n",
       "      <td>0.579430</td>\n",
       "      <td>1.000000</td>\n",
       "    </tr>\n",
       "  </tbody>\n",
       "</table>\n",
       "</div>"
      ],
      "text/plain": [
       "                     Year  Spending_USD  Life_Expectancy\n",
       "Year             1.000000      0.826273         0.902175\n",
       "Spending_USD     0.826273      1.000000         0.579430\n",
       "Life_Expectancy  0.902175      0.579430         1.000000"
      ]
     },
     "execution_count": 27,
     "metadata": {},
     "output_type": "execute_result"
    }
   ],
   "source": [
    "df.corr()"
   ]
  },
  {
   "cell_type": "markdown",
   "id": "29f0dbd4-b317-47db-bf2b-8471324030e0",
   "metadata": {},
   "source": [
    "Q11. What is the formula for calculating the sample mean? Provide an example calculation for a\n",
    "dataset."
   ]
  },
  {
   "cell_type": "code",
   "execution_count": 28,
   "id": "f687a388-f1cf-49d4-bfa1-30737fd00817",
   "metadata": {},
   "outputs": [],
   "source": [
    "\"\"\"The general sample mean formula for calculating the sample mean is expressed as \n",
    "x̄ = ( Σ xi ) ÷ n.\n",
    "Here, x̄ denotes sample mean,\n",
    "xi refers all X sample values\n",
    "'n' number of sample terms in the given data.\"\"\"\n",
    "s=[1,2,3,4,5,6,7,8,12,13]"
   ]
  },
  {
   "cell_type": "code",
   "execution_count": 29,
   "id": "8106566f-93b6-461d-8147-34abb138797d",
   "metadata": {},
   "outputs": [
    {
     "data": {
      "text/plain": [
       "6.1"
      ]
     },
     "execution_count": 29,
     "metadata": {},
     "output_type": "execute_result"
    }
   ],
   "source": [
    "np.mean(s)"
   ]
  },
  {
   "cell_type": "markdown",
   "id": "e83bf23e-7797-40de-a76a-5a34dbde7087",
   "metadata": {},
   "source": [
    "Q12. For a normal distribution data what is the relationship between its measure of central tendency?"
   ]
  },
  {
   "cell_type": "code",
   "execution_count": 31,
   "id": "6ed5b8c8-4695-42b6-8dee-0c9ee4ad7e42",
   "metadata": {},
   "outputs": [
    {
     "data": {
      "text/plain": [
       "' The relationship between its measure of central tendency for a normal distribution data what is -\\nmean=median=mode  '"
      ]
     },
     "execution_count": 31,
     "metadata": {},
     "output_type": "execute_result"
    }
   ],
   "source": [
    "\"\"\" The relationship between its measure of central tendency for a normal distribution data what is -\n",
    "mean=median=mode  \"\"\""
   ]
  },
  {
   "cell_type": "markdown",
   "id": "80297e1a-bd3c-4c57-8a44-b1ca1c4af61c",
   "metadata": {},
   "source": [
    "Q13. How is covariance different from correlation?"
   ]
  },
  {
   "cell_type": "code",
   "execution_count": 32,
   "id": "94cfe0e6-3f45-45c1-8a5b-94ce43df4013",
   "metadata": {},
   "outputs": [
    {
     "data": {
      "text/plain": [
       "'Covariance tells us the direction of the relationship between two variables,\\nwhile correlation provides an indication as to how strong the relationship between the two variables is,in addition to the direction of correlated variables.\\nCorrelation values range from +1 to -1.\\ncovariance values can exceed this scale, ranging from +-∞ to +∞.   '"
      ]
     },
     "execution_count": 32,
     "metadata": {},
     "output_type": "execute_result"
    }
   ],
   "source": [
    "\"\"\"Covariance tells us the direction of the relationship between two variables,\n",
    "while correlation provides an indication as to how strong the relationship between the two variables is,in addition to the direction of correlated variables.\n",
    "Correlation values range from +1 to -1.\n",
    "covariance values can exceed this scale, ranging from +-∞ to +∞.   \"\"\""
   ]
  },
  {
   "cell_type": "markdown",
   "id": "74ffee95-5996-42ac-a24a-2a3e8c7a6090",
   "metadata": {},
   "source": [
    "Q14. How do outliers affect measures of central tendency and dispersion? Provide an example."
   ]
  },
  {
   "cell_type": "code",
   "execution_count": null,
   "id": "e5fa5c97-ba7e-46e6-978c-4c91270c781f",
   "metadata": {},
   "outputs": [],
   "source": [
    "\"\"\" outliers can distort the measures of central tendency (mean, median, mode) and measures of dispersion (range, standard deviation, variance)"
   ]
  }
 ],
 "metadata": {
  "kernelspec": {
   "display_name": "Python 3 (ipykernel)",
   "language": "python",
   "name": "python3"
  },
  "language_info": {
   "codemirror_mode": {
    "name": "ipython",
    "version": 3
   },
   "file_extension": ".py",
   "mimetype": "text/x-python",
   "name": "python",
   "nbconvert_exporter": "python",
   "pygments_lexer": "ipython3",
   "version": "3.10.8"
  }
 },
 "nbformat": 4,
 "nbformat_minor": 5
}
